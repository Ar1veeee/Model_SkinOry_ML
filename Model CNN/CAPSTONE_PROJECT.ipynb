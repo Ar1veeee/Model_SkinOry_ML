{
  "nbformat": 4,
  "nbformat_minor": 0,
  "metadata": {
    "colab": {
      "provenance": []
    },
    "kernelspec": {
      "name": "python3",
      "display_name": "Python 3"
    },
    "language_info": {
      "name": "python"
    }
  },
  "cells": [
    {
      "cell_type": "markdown",
      "source": [
        "## Import Libraries"
      ],
      "metadata": {
        "id": "Bd_vaBGgv533"
      }
    },
    {
      "cell_type": "code",
      "source": [
        "import os\n",
        "import gdown\n",
        "import zipfile\n",
        "import numpy as np\n",
        "import shutil\n",
        "import tensorflow as tf\n",
        "from tensorflow.keras.models import Sequential\n",
        "import matplotlib.pyplot as plt\n",
        "from sklearn.model_selection import train_test_split\n",
        "from tensorflow.keras.applications import ResNet50\n",
        "from tensorflow.keras import layers, models"
      ],
      "metadata": {
        "id": "e3Q3awqlv_MS"
      },
      "execution_count": 1,
      "outputs": []
    },
    {
      "cell_type": "markdown",
      "source": [
        "## Dataset"
      ],
      "metadata": {
        "id": "kLePftCFM-oh"
      }
    },
    {
      "cell_type": "code",
      "source": [
        "!gdown --id 1f1oJvIajWvE59LATHeewtw20XwrGMXAF\n"
      ],
      "metadata": {
        "colab": {
          "base_uri": "https://localhost:8080/"
        },
        "id": "i56Ydf4zKw5z",
        "outputId": "10e60271-e95e-47e2-89ec-35478b7af531",
        "collapsed": true
      },
      "execution_count": 2,
      "outputs": [
        {
          "output_type": "stream",
          "name": "stdout",
          "text": [
            "/usr/local/lib/python3.10/dist-packages/gdown/__main__.py:140: FutureWarning: Option `--id` was deprecated in version 4.3.1 and will be removed in 5.0. You don't need to pass it anymore to use a file ID.\n",
            "  warnings.warn(\n",
            "Downloading...\n",
            "From (original): https://drive.google.com/uc?id=1f1oJvIajWvE59LATHeewtw20XwrGMXAF\n",
            "From (redirected): https://drive.google.com/uc?id=1f1oJvIajWvE59LATHeewtw20XwrGMXAF&confirm=t&uuid=b376a4d3-90ef-4c78-877a-f1a4a6db97c0\n",
            "To: /content/skinimage.zip\n",
            "100% 40.3M/40.3M [00:00<00:00, 47.0MB/s]\n"
          ]
        }
      ]
    },
    {
      "cell_type": "code",
      "source": [
        "# Path file ZIP yang sudah diunduh\n",
        "zip_path = \"/content/skinimage.zip\"\n",
        "\n",
        "# Path folder tujuan ekstraksi\n",
        "extract_path = \"/content/dataskin\"\n",
        "\n",
        "# Ekstraksi file\n",
        "if zip_path.endswith(\".zip\"):\n",
        "    with zipfile.ZipFile(zip_path, 'r') as zip_ref:\n",
        "        zip_ref.extractall(extract_path)\n",
        "    print(f\"Dataset berhasil diekstrak ke {extract_path}\")\n",
        "\n",
        "# Menampilkan nama folder dan 10 gambar pertama dari setiap folder\n",
        "    print(\"\\nStruktur folder dan gambar pertama:\")\n",
        "    for class_name in ['berminyak', 'kering', 'normal']:\n",
        "        class_path = os.path.join(extract_path, class_name)\n",
        "\n",
        "        if os.path.isdir(class_path):\n",
        "            print(f\"\\n{class_name}/\")\n",
        "            images = os.listdir(class_path)\n",
        "            for i, image in enumerate(images[:10]):  # Menampilkan hanya 10 gambar pertama\n",
        "                print(f\"    {image}\")\n"
      ],
      "metadata": {
        "colab": {
          "base_uri": "https://localhost:8080/"
        },
        "id": "y9pLX5biRovl",
        "outputId": "50e50e08-e307-4830-9721-c15f3d2e2434",
        "collapsed": true
      },
      "execution_count": 3,
      "outputs": [
        {
          "output_type": "stream",
          "name": "stdout",
          "text": [
            "Dataset berhasil diekstrak ke /content/dataskin\n",
            "\n",
            "Struktur folder dan gambar pertama:\n",
            "\n",
            "berminyak/\n",
            "    berminyak (332).jpg\n",
            "    berminyak (212).jpg\n",
            "    berminyak (158).jpg\n",
            "    berminyak (151).jpg\n",
            "    berminyak (153).jpg\n",
            "    berminyak (346).jpg\n",
            "    berminyak (215).jpg\n",
            "    berminyak (289).jpg\n",
            "    berminyak (79).jpg\n",
            "    berminyak (23).jpg\n",
            "\n",
            "kering/\n",
            "    kering (136).jpeg\n",
            "    kering (95).jpeg\n",
            "    kering (130).jpg\n",
            "    kering (129).jpg\n",
            "    kering (200).jpeg\n",
            "    kering (5).jpeg\n",
            "    kering (72).jpg\n",
            "    kering (77).jpg\n",
            "    kering (154).jpeg\n",
            "    kering (36).jpg\n",
            "\n",
            "normal/\n",
            "    normal (371).jpg\n",
            "    normal (315).jpg\n",
            "    normal (240).jpg\n",
            "    normal (108).jpg\n",
            "    normal (372).jpg\n",
            "    normal (239).jpg\n",
            "    normal (168).jpg\n",
            "    normal (299).jpg\n",
            "    normal (24).jpg\n",
            "    normal (367).jpg\n"
          ]
        }
      ]
    },
    {
      "cell_type": "markdown",
      "source": [
        "## **Preprocessing**"
      ],
      "metadata": {
        "id": "mc2HljTwOABL"
      }
    },
    {
      "cell_type": "markdown",
      "source": [
        "## Split Dataset"
      ],
      "metadata": {
        "id": "O6p3Vr0rOE-k"
      }
    },
    {
      "cell_type": "code",
      "source": [
        "# Path file ZIP yang sudah diunduh\n",
        "zip_path = \"/content/skinimage.zip\"\n",
        "\n",
        "# Path folder tujuan ekstraksi\n",
        "extract_path = \"/content/dataskin\"\n",
        "\n",
        "# Ekstraksi file ZIP\n",
        "if zip_path.endswith(\".zip\"):\n",
        "    with zipfile.ZipFile(zip_path, 'r') as zip_ref:\n",
        "        zip_ref.extractall(extract_path)\n",
        "    print(f\"Dataset berhasil diekstrak ke {extract_path}\")\n",
        "\n",
        "# Path untuk menyimpan dataset yang telah dibagi\n",
        "base_dir = \"/content/dataset_splitting\"\n",
        "os.makedirs(base_dir, exist_ok=True)\n",
        "\n",
        "# Buat folder untuk train, val, test\n",
        "train_dir = os.path.join(base_dir, 'train')\n",
        "val_dir = os.path.join(base_dir, 'val')\n",
        "test_dir = os.path.join(base_dir, 'test')\n",
        "\n",
        "# Membuat subfolder untuk train, val, test\n",
        "for folder in [train_dir, val_dir, test_dir]:\n",
        "    os.makedirs(folder, exist_ok=True)\n",
        "\n",
        "# Daftar folder kelas yang relevan\n",
        "classes = ['berminyak', 'kering', 'normal']\n",
        "\n",
        "# Membagi dataset untuk setiap kelas\n",
        "for class_name in classes:\n",
        "    class_dir = os.path.join(extract_path, class_name)\n",
        "\n",
        "    # Pastikan hanya folder yang ada\n",
        "    if os.path.isdir(class_dir):\n",
        "        print(f\"\\nMembagi dataset untuk kelas: {class_name}\")\n",
        "\n",
        "        # Ambil semua gambar dalam folder kelas\n",
        "        images = os.listdir(class_dir)\n",
        "        images = [os.path.join(class_dir, img) for img in images]\n",
        "\n",
        "        # Bagi dataset menjadi train (70%), val (15%), test (15%)\n",
        "        train_imgs, test_imgs = train_test_split(images, test_size=0.3, random_state=42)\n",
        "        val_imgs, test_imgs = train_test_split(test_imgs, test_size=0.5, random_state=42)\n",
        "\n",
        "        # Buat subfolder untuk kelas di train, val, test\n",
        "        os.makedirs(os.path.join(train_dir, class_name), exist_ok=True)\n",
        "        os.makedirs(os.path.join(val_dir, class_name), exist_ok=True)\n",
        "        os.makedirs(os.path.join(test_dir, class_name), exist_ok=True)\n",
        "\n",
        "        # Pindahkan gambar ke folder yang sesuai\n",
        "        for img in train_imgs:\n",
        "            shutil.copy(img, os.path.join(train_dir, class_name))\n",
        "        for img in val_imgs:\n",
        "            shutil.copy(img, os.path.join(val_dir, class_name))\n",
        "        for img in test_imgs:\n",
        "            shutil.copy(img, os.path.join(test_dir, class_name))\n",
        "\n",
        "print(\"Dataset telah dibagi menjadi training, validation, dan testing.\")\n"
      ],
      "metadata": {
        "colab": {
          "base_uri": "https://localhost:8080/"
        },
        "id": "EvZXYYfqzjP7",
        "outputId": "32e80351-a3e3-4299-97d6-8234e253b507"
      },
      "execution_count": 4,
      "outputs": [
        {
          "output_type": "stream",
          "name": "stdout",
          "text": [
            "Dataset berhasil diekstrak ke /content/dataskin\n",
            "\n",
            "Membagi dataset untuk kelas: berminyak\n",
            "\n",
            "Membagi dataset untuk kelas: kering\n",
            "\n",
            "Membagi dataset untuk kelas: normal\n",
            "Dataset telah dibagi menjadi training, validation, dan testing.\n"
          ]
        }
      ]
    },
    {
      "cell_type": "code",
      "source": [
        "# Training dataset\n",
        "train_dataset = tf.keras.utils.image_dataset_from_directory(\n",
        "    train_dir,\n",
        "    seed=123,\n",
        "    image_size=(224, 224),\n",
        "    batch_size=64,\n",
        "    label_mode=\"categorical\"\n",
        ")\n",
        "\n",
        "# Validation dataset\n",
        "val_dataset = tf.keras.utils.image_dataset_from_directory(\n",
        "    val_dir,\n",
        "    seed=123,\n",
        "    image_size=(224, 224),\n",
        "    batch_size=64,\n",
        "    label_mode=\"categorical\"\n",
        ")\n",
        "\n",
        "# Test dataset\n",
        "test_dataset = tf.keras.utils.image_dataset_from_directory(\n",
        "    test_dir,\n",
        "    seed=123,\n",
        "    image_size=(224, 224),\n",
        "    batch_size=64,\n",
        "    label_mode=\"categorical\"\n",
        ")\n"
      ],
      "metadata": {
        "colab": {
          "base_uri": "https://localhost:8080/"
        },
        "id": "WPYh2ZcYOIJK",
        "outputId": "aadcaeaa-768a-4935-a082-d3c2d0e61ff9"
      },
      "execution_count": 5,
      "outputs": [
        {
          "output_type": "stream",
          "name": "stdout",
          "text": [
            "Found 890 files belonging to 3 classes.\n",
            "Found 191 files belonging to 3 classes.\n",
            "Found 192 files belonging to 3 classes.\n"
          ]
        }
      ]
    },
    {
      "cell_type": "markdown",
      "source": [
        "## Normalization Dataset"
      ],
      "metadata": {
        "id": "7lTEAa0zQni3"
      }
    },
    {
      "cell_type": "code",
      "source": [
        "normalization_layer = tf.keras.layers.Rescaling(1./255)\n",
        "\n",
        "normalized_train_dataset = train_dataset.map(lambda x, y: (normalization_layer(x), y))\n",
        "normalized_val_dataset = val_dataset.map(lambda x, y: (normalization_layer(x), y))\n",
        "normalized_test_dataset = test_dataset.map(lambda x, y: (normalization_layer(x), y))"
      ],
      "metadata": {
        "id": "F88Jxb4tQs-u"
      },
      "execution_count": 6,
      "outputs": []
    },
    {
      "cell_type": "markdown",
      "source": [
        "## Optimize Dataset"
      ],
      "metadata": {
        "id": "M5gG2z9XRZqv"
      }
    },
    {
      "cell_type": "code",
      "source": [
        "AUTOTUNE = tf.data.AUTOTUNE\n",
        "\n",
        "train_dataset = train_dataset.prefetch(buffer_size=AUTOTUNE)\n",
        "val_dataset = val_dataset.prefetch(buffer_size=AUTOTUNE)"
      ],
      "metadata": {
        "id": "Rk0WzApRReLP"
      },
      "execution_count": 7,
      "outputs": []
    },
    {
      "cell_type": "markdown",
      "source": [
        "## Augmentation Data"
      ],
      "metadata": {
        "id": "n0Mb9Nb4SXZg"
      }
    },
    {
      "cell_type": "code",
      "source": [
        "for images, labels in train_dataset.take(1):\n",
        "  example_batch_images = images\n",
        "  example_batch_labels = labels\n",
        "\n",
        "print(f\"Each images has shape: {example_batch_images.shape}\")\n",
        "print(f\"Each labels has shape: {example_batch_labels.shape}\")"
      ],
      "metadata": {
        "colab": {
          "base_uri": "https://localhost:8080/"
        },
        "id": "pTvBmdKvZaRp",
        "outputId": "0e1254ef-bfe9-4487-f6c7-cebdd948c8e5"
      },
      "execution_count": 8,
      "outputs": [
        {
          "output_type": "stream",
          "name": "stdout",
          "text": [
            "Each images has shape: (64, 224, 224, 3)\n",
            "Each labels has shape: (64, 3)\n"
          ]
        }
      ]
    },
    {
      "cell_type": "code",
      "source": [
        "# Data Augmentation model\n",
        "FILL_MODE = 'nearest'\n",
        "\n",
        "data_augmentation = tf.keras.Sequential([\n",
        "        tf.keras.Input(shape=(224, 224, 3)),\n",
        "        tf.keras.layers.RandomFlip(\"horizontal\"),\n",
        "        tf.keras.layers.RandomRotation(0.2, fill_mode=FILL_MODE),\n",
        "        tf.keras.layers.RandomTranslation(0.2, 0.2, fill_mode=FILL_MODE),\n",
        "        tf.keras.layers.RandomZoom(0.2, fill_mode=FILL_MODE),\n",
        "        tf.keras.layers.RandomContrast(0.2)\n",
        "        ])"
      ],
      "metadata": {
        "id": "gEQ2ZRh4SfQz"
      },
      "execution_count": 9,
      "outputs": []
    },
    {
      "cell_type": "markdown",
      "source": [
        "## Create Model"
      ],
      "metadata": {
        "id": "v4O9ZWbk2ePR"
      }
    },
    {
      "cell_type": "code",
      "source": [
        "def create_model():\n",
        "    base_model = ResNet50(input_shape=(224, 224, 3), include_top=False, weights='imagenet')\n",
        "\n",
        "    base_model.trainable = False\n",
        "\n",
        "    model = models.Sequential([\n",
        "        base_model,\n",
        "        layers.GlobalAveragePooling2D(),\n",
        "        layers.Dense(128, activation='relu'),\n",
        "        layers.Dropout(0.5),\n",
        "        layers.Dense(3, activation='softmax')\n",
        "    ])\n",
        "\n",
        "    model.compile(\n",
        "        optimizer=tf.keras.optimizers.Adam(learning_rate=1e-4),\n",
        "        loss='categorical_crossentropy',\n",
        "        metrics=['accuracy']\n",
        "    )\n",
        "\n",
        "    return model"
      ],
      "metadata": {
        "id": "j6vYl-CW2kNQ"
      },
      "execution_count": 10,
      "outputs": []
    },
    {
      "cell_type": "code",
      "source": [
        "model = create_model()"
      ],
      "metadata": {
        "id": "AMuOidoplfZI",
        "colab": {
          "base_uri": "https://localhost:8080/"
        },
        "outputId": "7ae9207a-fe3c-412e-8f70-30070f1bfc79"
      },
      "execution_count": 11,
      "outputs": [
        {
          "output_type": "stream",
          "name": "stdout",
          "text": [
            "Downloading data from https://storage.googleapis.com/tensorflow/keras-applications/resnet/resnet50_weights_tf_dim_ordering_tf_kernels_notop.h5\n",
            "\u001b[1m94765736/94765736\u001b[0m \u001b[32m━━━━━━━━━━━━━━━━━━━━\u001b[0m\u001b[37m\u001b[0m \u001b[1m0s\u001b[0m 0us/step\n"
          ]
        }
      ]
    },
    {
      "cell_type": "code",
      "source": [
        "model.summary()"
      ],
      "metadata": {
        "colab": {
          "base_uri": "https://localhost:8080/",
          "height": 310
        },
        "id": "LDeCUmlxlIOo",
        "outputId": "3178c4f3-13c4-4c73-cf98-721535dff697"
      },
      "execution_count": 12,
      "outputs": [
        {
          "output_type": "display_data",
          "data": {
            "text/plain": [
              "\u001b[1mModel: \"sequential_1\"\u001b[0m\n"
            ],
            "text/html": [
              "<pre style=\"white-space:pre;overflow-x:auto;line-height:normal;font-family:Menlo,'DejaVu Sans Mono',consolas,'Courier New',monospace\"><span style=\"font-weight: bold\">Model: \"sequential_1\"</span>\n",
              "</pre>\n"
            ]
          },
          "metadata": {}
        },
        {
          "output_type": "display_data",
          "data": {
            "text/plain": [
              "┏━━━━━━━━━━━━━━━━━━━━━━━━━━━━━━━━━━━━━━┳━━━━━━━━━━━━━━━━━━━━━━━━━━━━━┳━━━━━━━━━━━━━━━━━┓\n",
              "┃\u001b[1m \u001b[0m\u001b[1mLayer (type)                        \u001b[0m\u001b[1m \u001b[0m┃\u001b[1m \u001b[0m\u001b[1mOutput Shape               \u001b[0m\u001b[1m \u001b[0m┃\u001b[1m \u001b[0m\u001b[1m        Param #\u001b[0m\u001b[1m \u001b[0m┃\n",
              "┡━━━━━━━━━━━━━━━━━━━━━━━━━━━━━━━━━━━━━━╇━━━━━━━━━━━━━━━━━━━━━━━━━━━━━╇━━━━━━━━━━━━━━━━━┩\n",
              "│ resnet50 (\u001b[38;5;33mFunctional\u001b[0m)                │ (\u001b[38;5;45mNone\u001b[0m, \u001b[38;5;34m7\u001b[0m, \u001b[38;5;34m7\u001b[0m, \u001b[38;5;34m2048\u001b[0m)          │      \u001b[38;5;34m23,587,712\u001b[0m │\n",
              "├──────────────────────────────────────┼─────────────────────────────┼─────────────────┤\n",
              "│ global_average_pooling2d             │ (\u001b[38;5;45mNone\u001b[0m, \u001b[38;5;34m2048\u001b[0m)                │               \u001b[38;5;34m0\u001b[0m │\n",
              "│ (\u001b[38;5;33mGlobalAveragePooling2D\u001b[0m)             │                             │                 │\n",
              "├──────────────────────────────────────┼─────────────────────────────┼─────────────────┤\n",
              "│ dense (\u001b[38;5;33mDense\u001b[0m)                        │ (\u001b[38;5;45mNone\u001b[0m, \u001b[38;5;34m128\u001b[0m)                 │         \u001b[38;5;34m262,272\u001b[0m │\n",
              "├──────────────────────────────────────┼─────────────────────────────┼─────────────────┤\n",
              "│ dropout (\u001b[38;5;33mDropout\u001b[0m)                    │ (\u001b[38;5;45mNone\u001b[0m, \u001b[38;5;34m128\u001b[0m)                 │               \u001b[38;5;34m0\u001b[0m │\n",
              "├──────────────────────────────────────┼─────────────────────────────┼─────────────────┤\n",
              "│ dense_1 (\u001b[38;5;33mDense\u001b[0m)                      │ (\u001b[38;5;45mNone\u001b[0m, \u001b[38;5;34m3\u001b[0m)                   │             \u001b[38;5;34m387\u001b[0m │\n",
              "└──────────────────────────────────────┴─────────────────────────────┴─────────────────┘\n"
            ],
            "text/html": [
              "<pre style=\"white-space:pre;overflow-x:auto;line-height:normal;font-family:Menlo,'DejaVu Sans Mono',consolas,'Courier New',monospace\">┏━━━━━━━━━━━━━━━━━━━━━━━━━━━━━━━━━━━━━━┳━━━━━━━━━━━━━━━━━━━━━━━━━━━━━┳━━━━━━━━━━━━━━━━━┓\n",
              "┃<span style=\"font-weight: bold\"> Layer (type)                         </span>┃<span style=\"font-weight: bold\"> Output Shape                </span>┃<span style=\"font-weight: bold\">         Param # </span>┃\n",
              "┡━━━━━━━━━━━━━━━━━━━━━━━━━━━━━━━━━━━━━━╇━━━━━━━━━━━━━━━━━━━━━━━━━━━━━╇━━━━━━━━━━━━━━━━━┩\n",
              "│ resnet50 (<span style=\"color: #0087ff; text-decoration-color: #0087ff\">Functional</span>)                │ (<span style=\"color: #00d7ff; text-decoration-color: #00d7ff\">None</span>, <span style=\"color: #00af00; text-decoration-color: #00af00\">7</span>, <span style=\"color: #00af00; text-decoration-color: #00af00\">7</span>, <span style=\"color: #00af00; text-decoration-color: #00af00\">2048</span>)          │      <span style=\"color: #00af00; text-decoration-color: #00af00\">23,587,712</span> │\n",
              "├──────────────────────────────────────┼─────────────────────────────┼─────────────────┤\n",
              "│ global_average_pooling2d             │ (<span style=\"color: #00d7ff; text-decoration-color: #00d7ff\">None</span>, <span style=\"color: #00af00; text-decoration-color: #00af00\">2048</span>)                │               <span style=\"color: #00af00; text-decoration-color: #00af00\">0</span> │\n",
              "│ (<span style=\"color: #0087ff; text-decoration-color: #0087ff\">GlobalAveragePooling2D</span>)             │                             │                 │\n",
              "├──────────────────────────────────────┼─────────────────────────────┼─────────────────┤\n",
              "│ dense (<span style=\"color: #0087ff; text-decoration-color: #0087ff\">Dense</span>)                        │ (<span style=\"color: #00d7ff; text-decoration-color: #00d7ff\">None</span>, <span style=\"color: #00af00; text-decoration-color: #00af00\">128</span>)                 │         <span style=\"color: #00af00; text-decoration-color: #00af00\">262,272</span> │\n",
              "├──────────────────────────────────────┼─────────────────────────────┼─────────────────┤\n",
              "│ dropout (<span style=\"color: #0087ff; text-decoration-color: #0087ff\">Dropout</span>)                    │ (<span style=\"color: #00d7ff; text-decoration-color: #00d7ff\">None</span>, <span style=\"color: #00af00; text-decoration-color: #00af00\">128</span>)                 │               <span style=\"color: #00af00; text-decoration-color: #00af00\">0</span> │\n",
              "├──────────────────────────────────────┼─────────────────────────────┼─────────────────┤\n",
              "│ dense_1 (<span style=\"color: #0087ff; text-decoration-color: #0087ff\">Dense</span>)                      │ (<span style=\"color: #00d7ff; text-decoration-color: #00d7ff\">None</span>, <span style=\"color: #00af00; text-decoration-color: #00af00\">3</span>)                   │             <span style=\"color: #00af00; text-decoration-color: #00af00\">387</span> │\n",
              "└──────────────────────────────────────┴─────────────────────────────┴─────────────────┘\n",
              "</pre>\n"
            ]
          },
          "metadata": {}
        },
        {
          "output_type": "display_data",
          "data": {
            "text/plain": [
              "\u001b[1m Total params: \u001b[0m\u001b[38;5;34m23,850,371\u001b[0m (90.98 MB)\n"
            ],
            "text/html": [
              "<pre style=\"white-space:pre;overflow-x:auto;line-height:normal;font-family:Menlo,'DejaVu Sans Mono',consolas,'Courier New',monospace\"><span style=\"font-weight: bold\"> Total params: </span><span style=\"color: #00af00; text-decoration-color: #00af00\">23,850,371</span> (90.98 MB)\n",
              "</pre>\n"
            ]
          },
          "metadata": {}
        },
        {
          "output_type": "display_data",
          "data": {
            "text/plain": [
              "\u001b[1m Trainable params: \u001b[0m\u001b[38;5;34m262,659\u001b[0m (1.00 MB)\n"
            ],
            "text/html": [
              "<pre style=\"white-space:pre;overflow-x:auto;line-height:normal;font-family:Menlo,'DejaVu Sans Mono',consolas,'Courier New',monospace\"><span style=\"font-weight: bold\"> Trainable params: </span><span style=\"color: #00af00; text-decoration-color: #00af00\">262,659</span> (1.00 MB)\n",
              "</pre>\n"
            ]
          },
          "metadata": {}
        },
        {
          "output_type": "display_data",
          "data": {
            "text/plain": [
              "\u001b[1m Non-trainable params: \u001b[0m\u001b[38;5;34m23,587,712\u001b[0m (89.98 MB)\n"
            ],
            "text/html": [
              "<pre style=\"white-space:pre;overflow-x:auto;line-height:normal;font-family:Menlo,'DejaVu Sans Mono',consolas,'Courier New',monospace\"><span style=\"font-weight: bold\"> Non-trainable params: </span><span style=\"color: #00af00; text-decoration-color: #00af00\">23,587,712</span> (89.98 MB)\n",
              "</pre>\n"
            ]
          },
          "metadata": {}
        }
      ]
    },
    {
      "cell_type": "code",
      "source": [
        "# Train model\n",
        "history = model.fit(train_dataset,\n",
        "                    epochs=50,\n",
        "                    validation_data=val_dataset\n",
        "                    )"
      ],
      "metadata": {
        "colab": {
          "base_uri": "https://localhost:8080/"
        },
        "id": "vwfzbMxRny1f",
        "outputId": "8c4bce26-bb63-4f6c-d094-2e5dcb21748f"
      },
      "execution_count": 13,
      "outputs": [
        {
          "output_type": "stream",
          "name": "stdout",
          "text": [
            "Epoch 1/50\n",
            "\u001b[1m14/14\u001b[0m \u001b[32m━━━━━━━━━━━━━━━━━━━━\u001b[0m\u001b[37m\u001b[0m \u001b[1m224s\u001b[0m 16s/step - accuracy: 0.3775 - loss: 1.7091 - val_accuracy: 0.5079 - val_loss: 1.0032\n",
            "Epoch 2/50\n",
            "\u001b[1m14/14\u001b[0m \u001b[32m━━━━━━━━━━━━━━━━━━━━\u001b[0m\u001b[37m\u001b[0m \u001b[1m268s\u001b[0m 16s/step - accuracy: 0.4095 - loss: 1.2641 - val_accuracy: 0.6492 - val_loss: 0.8225\n",
            "Epoch 3/50\n",
            "\u001b[1m14/14\u001b[0m \u001b[32m━━━━━━━━━━━━━━━━━━━━\u001b[0m\u001b[37m\u001b[0m \u001b[1m258s\u001b[0m 16s/step - accuracy: 0.5412 - loss: 1.0031 - val_accuracy: 0.6859 - val_loss: 0.7422\n",
            "Epoch 4/50\n",
            "\u001b[1m14/14\u001b[0m \u001b[32m━━━━━━━━━━━━━━━━━━━━\u001b[0m\u001b[37m\u001b[0m \u001b[1m265s\u001b[0m 16s/step - accuracy: 0.5783 - loss: 0.8931 - val_accuracy: 0.7173 - val_loss: 0.6876\n",
            "Epoch 5/50\n",
            "\u001b[1m14/14\u001b[0m \u001b[32m━━━━━━━━━━━━━━━━━━━━\u001b[0m\u001b[37m\u001b[0m \u001b[1m214s\u001b[0m 15s/step - accuracy: 0.6224 - loss: 0.8387 - val_accuracy: 0.7487 - val_loss: 0.6546\n",
            "Epoch 6/50\n",
            "\u001b[1m14/14\u001b[0m \u001b[32m━━━━━━━━━━━━━━━━━━━━\u001b[0m\u001b[37m\u001b[0m \u001b[1m262s\u001b[0m 16s/step - accuracy: 0.6701 - loss: 0.7586 - val_accuracy: 0.7696 - val_loss: 0.6309\n",
            "Epoch 7/50\n",
            "\u001b[1m14/14\u001b[0m \u001b[32m━━━━━━━━━━━━━━━━━━━━\u001b[0m\u001b[37m\u001b[0m \u001b[1m272s\u001b[0m 16s/step - accuracy: 0.7145 - loss: 0.6544 - val_accuracy: 0.7853 - val_loss: 0.6037\n",
            "Epoch 8/50\n",
            "\u001b[1m14/14\u001b[0m \u001b[32m━━━━━━━━━━━━━━━━━━━━\u001b[0m\u001b[37m\u001b[0m \u001b[1m250s\u001b[0m 15s/step - accuracy: 0.7529 - loss: 0.6177 - val_accuracy: 0.8010 - val_loss: 0.5804\n",
            "Epoch 9/50\n",
            "\u001b[1m14/14\u001b[0m \u001b[32m━━━━━━━━━━━━━━━━━━━━\u001b[0m\u001b[37m\u001b[0m \u001b[1m272s\u001b[0m 16s/step - accuracy: 0.7676 - loss: 0.6029 - val_accuracy: 0.8115 - val_loss: 0.5614\n",
            "Epoch 10/50\n",
            "\u001b[1m14/14\u001b[0m \u001b[32m━━━━━━━━━━━━━━━━━━━━\u001b[0m\u001b[37m\u001b[0m \u001b[1m254s\u001b[0m 16s/step - accuracy: 0.7771 - loss: 0.5773 - val_accuracy: 0.8272 - val_loss: 0.5425\n",
            "Epoch 11/50\n",
            "\u001b[1m14/14\u001b[0m \u001b[32m━━━━━━━━━━━━━━━━━━━━\u001b[0m\u001b[37m\u001b[0m \u001b[1m301s\u001b[0m 19s/step - accuracy: 0.7721 - loss: 0.5786 - val_accuracy: 0.8272 - val_loss: 0.5325\n",
            "Epoch 12/50\n",
            "\u001b[1m14/14\u001b[0m \u001b[32m━━━━━━━━━━━━━━━━━━━━\u001b[0m\u001b[37m\u001b[0m \u001b[1m225s\u001b[0m 16s/step - accuracy: 0.7834 - loss: 0.5317 - val_accuracy: 0.8429 - val_loss: 0.5196\n",
            "Epoch 13/50\n",
            "\u001b[1m14/14\u001b[0m \u001b[32m━━━━━━━━━━━━━━━━━━━━\u001b[0m\u001b[37m\u001b[0m \u001b[1m209s\u001b[0m 15s/step - accuracy: 0.8173 - loss: 0.4816 - val_accuracy: 0.8325 - val_loss: 0.5064\n",
            "Epoch 14/50\n",
            "\u001b[1m14/14\u001b[0m \u001b[32m━━━━━━━━━━━━━━━━━━━━\u001b[0m\u001b[37m\u001b[0m \u001b[1m272s\u001b[0m 16s/step - accuracy: 0.8251 - loss: 0.4794 - val_accuracy: 0.8272 - val_loss: 0.4972\n",
            "Epoch 15/50\n",
            "\u001b[1m14/14\u001b[0m \u001b[32m━━━━━━━━━━━━━━━━━━━━\u001b[0m\u001b[37m\u001b[0m \u001b[1m255s\u001b[0m 15s/step - accuracy: 0.8497 - loss: 0.4322 - val_accuracy: 0.8377 - val_loss: 0.4912\n",
            "Epoch 16/50\n",
            "\u001b[1m14/14\u001b[0m \u001b[32m━━━━━━━━━━━━━━━━━━━━\u001b[0m\u001b[37m\u001b[0m \u001b[1m254s\u001b[0m 19s/step - accuracy: 0.8444 - loss: 0.4345 - val_accuracy: 0.8482 - val_loss: 0.4792\n",
            "Epoch 17/50\n",
            "\u001b[1m14/14\u001b[0m \u001b[32m━━━━━━━━━━━━━━━━━━━━\u001b[0m\u001b[37m\u001b[0m \u001b[1m210s\u001b[0m 15s/step - accuracy: 0.8433 - loss: 0.4114 - val_accuracy: 0.8429 - val_loss: 0.4709\n",
            "Epoch 18/50\n",
            "\u001b[1m14/14\u001b[0m \u001b[32m━━━━━━━━━━━━━━━━━━━━\u001b[0m\u001b[37m\u001b[0m \u001b[1m268s\u001b[0m 16s/step - accuracy: 0.8580 - loss: 0.3915 - val_accuracy: 0.8377 - val_loss: 0.4633\n",
            "Epoch 19/50\n",
            "\u001b[1m14/14\u001b[0m \u001b[32m━━━━━━━━━━━━━━━━━━━━\u001b[0m\u001b[37m\u001b[0m \u001b[1m265s\u001b[0m 16s/step - accuracy: 0.8874 - loss: 0.3695 - val_accuracy: 0.8482 - val_loss: 0.4576\n",
            "Epoch 20/50\n",
            "\u001b[1m14/14\u001b[0m \u001b[32m━━━━━━━━━━━━━━━━━━━━\u001b[0m\u001b[37m\u001b[0m \u001b[1m251s\u001b[0m 15s/step - accuracy: 0.8633 - loss: 0.3591 - val_accuracy: 0.8429 - val_loss: 0.4520\n",
            "Epoch 21/50\n",
            "\u001b[1m14/14\u001b[0m \u001b[32m━━━━━━━━━━━━━━━━━━━━\u001b[0m\u001b[37m\u001b[0m \u001b[1m254s\u001b[0m 19s/step - accuracy: 0.9060 - loss: 0.3343 - val_accuracy: 0.8325 - val_loss: 0.4460\n",
            "Epoch 22/50\n",
            "\u001b[1m14/14\u001b[0m \u001b[32m━━━━━━━━━━━━━━━━━━━━\u001b[0m\u001b[37m\u001b[0m \u001b[1m220s\u001b[0m 15s/step - accuracy: 0.8643 - loss: 0.3709 - val_accuracy: 0.8429 - val_loss: 0.4389\n",
            "Epoch 23/50\n",
            "\u001b[1m14/14\u001b[0m \u001b[32m━━━━━━━━━━━━━━━━━━━━\u001b[0m\u001b[37m\u001b[0m \u001b[1m262s\u001b[0m 15s/step - accuracy: 0.8805 - loss: 0.3329 - val_accuracy: 0.8377 - val_loss: 0.4328\n",
            "Epoch 24/50\n",
            "\u001b[1m14/14\u001b[0m \u001b[32m━━━━━━━━━━━━━━━━━━━━\u001b[0m\u001b[37m\u001b[0m \u001b[1m219s\u001b[0m 16s/step - accuracy: 0.8984 - loss: 0.3013 - val_accuracy: 0.8482 - val_loss: 0.4296\n",
            "Epoch 25/50\n",
            "\u001b[1m14/14\u001b[0m \u001b[32m━━━━━━━━━━━━━━━━━━━━\u001b[0m\u001b[37m\u001b[0m \u001b[1m254s\u001b[0m 15s/step - accuracy: 0.9055 - loss: 0.2963 - val_accuracy: 0.8482 - val_loss: 0.4219\n",
            "Epoch 26/50\n",
            "\u001b[1m14/14\u001b[0m \u001b[32m━━━━━━━━━━━━━━━━━━━━\u001b[0m\u001b[37m\u001b[0m \u001b[1m258s\u001b[0m 19s/step - accuracy: 0.8963 - loss: 0.3078 - val_accuracy: 0.8429 - val_loss: 0.4203\n",
            "Epoch 27/50\n",
            "\u001b[1m14/14\u001b[0m \u001b[32m━━━━━━━━━━━━━━━━━━━━\u001b[0m\u001b[37m\u001b[0m \u001b[1m213s\u001b[0m 15s/step - accuracy: 0.9152 - loss: 0.2737 - val_accuracy: 0.8482 - val_loss: 0.4142\n",
            "Epoch 28/50\n",
            "\u001b[1m14/14\u001b[0m \u001b[32m━━━━━━━━━━━━━━━━━━━━\u001b[0m\u001b[37m\u001b[0m \u001b[1m258s\u001b[0m 15s/step - accuracy: 0.9084 - loss: 0.2819 - val_accuracy: 0.8586 - val_loss: 0.4189\n",
            "Epoch 29/50\n",
            "\u001b[1m14/14\u001b[0m \u001b[32m━━━━━━━━━━━━━━━━━━━━\u001b[0m\u001b[37m\u001b[0m \u001b[1m265s\u001b[0m 15s/step - accuracy: 0.9141 - loss: 0.2704 - val_accuracy: 0.8325 - val_loss: 0.4128\n",
            "Epoch 30/50\n",
            "\u001b[1m14/14\u001b[0m \u001b[32m━━━━━━━━━━━━━━━━━━━━\u001b[0m\u001b[37m\u001b[0m \u001b[1m262s\u001b[0m 15s/step - accuracy: 0.9287 - loss: 0.2621 - val_accuracy: 0.8482 - val_loss: 0.4101\n",
            "Epoch 31/50\n",
            "\u001b[1m14/14\u001b[0m \u001b[32m━━━━━━━━━━━━━━━━━━━━\u001b[0m\u001b[37m\u001b[0m \u001b[1m262s\u001b[0m 15s/step - accuracy: 0.9266 - loss: 0.2513 - val_accuracy: 0.8639 - val_loss: 0.4104\n",
            "Epoch 32/50\n",
            "\u001b[1m14/14\u001b[0m \u001b[32m━━━━━━━━━━━━━━━━━━━━\u001b[0m\u001b[37m\u001b[0m \u001b[1m262s\u001b[0m 15s/step - accuracy: 0.9204 - loss: 0.2364 - val_accuracy: 0.8534 - val_loss: 0.4074\n",
            "Epoch 33/50\n",
            "\u001b[1m14/14\u001b[0m \u001b[32m━━━━━━━━━━━━━━━━━━━━\u001b[0m\u001b[37m\u001b[0m \u001b[1m269s\u001b[0m 16s/step - accuracy: 0.9303 - loss: 0.2414 - val_accuracy: 0.8586 - val_loss: 0.4002\n",
            "Epoch 34/50\n",
            "\u001b[1m14/14\u001b[0m \u001b[32m━━━━━━━━━━━━━━━━━━━━\u001b[0m\u001b[37m\u001b[0m \u001b[1m213s\u001b[0m 15s/step - accuracy: 0.9441 - loss: 0.2294 - val_accuracy: 0.8429 - val_loss: 0.3972\n",
            "Epoch 35/50\n",
            "\u001b[1m14/14\u001b[0m \u001b[32m━━━━━━━━━━━━━━━━━━━━\u001b[0m\u001b[37m\u001b[0m \u001b[1m261s\u001b[0m 15s/step - accuracy: 0.9421 - loss: 0.2137 - val_accuracy: 0.8639 - val_loss: 0.3948\n",
            "Epoch 36/50\n",
            "\u001b[1m14/14\u001b[0m \u001b[32m━━━━━━━━━━━━━━━━━━━━\u001b[0m\u001b[37m\u001b[0m \u001b[1m264s\u001b[0m 15s/step - accuracy: 0.9450 - loss: 0.2042 - val_accuracy: 0.8586 - val_loss: 0.3884\n",
            "Epoch 37/50\n",
            "\u001b[1m14/14\u001b[0m \u001b[32m━━━━━━━━━━━━━━━━━━━━\u001b[0m\u001b[37m\u001b[0m \u001b[1m214s\u001b[0m 15s/step - accuracy: 0.9251 - loss: 0.2275 - val_accuracy: 0.8639 - val_loss: 0.3902\n",
            "Epoch 38/50\n",
            "\u001b[1m14/14\u001b[0m \u001b[32m━━━━━━━━━━━━━━━━━━━━\u001b[0m\u001b[37m\u001b[0m \u001b[1m208s\u001b[0m 15s/step - accuracy: 0.9493 - loss: 0.1904 - val_accuracy: 0.8639 - val_loss: 0.3880\n",
            "Epoch 39/50\n",
            "\u001b[1m14/14\u001b[0m \u001b[32m━━━━━━━━━━━━━━━━━━━━\u001b[0m\u001b[37m\u001b[0m \u001b[1m213s\u001b[0m 15s/step - accuracy: 0.9527 - loss: 0.1985 - val_accuracy: 0.8639 - val_loss: 0.3873\n",
            "Epoch 40/50\n",
            "\u001b[1m14/14\u001b[0m \u001b[32m━━━━━━━━━━━━━━━━━━━━\u001b[0m\u001b[37m\u001b[0m \u001b[1m260s\u001b[0m 15s/step - accuracy: 0.9399 - loss: 0.1971 - val_accuracy: 0.8534 - val_loss: 0.3827\n",
            "Epoch 41/50\n",
            "\u001b[1m14/14\u001b[0m \u001b[32m━━━━━━━━━━━━━━━━━━━━\u001b[0m\u001b[37m\u001b[0m \u001b[1m258s\u001b[0m 15s/step - accuracy: 0.9533 - loss: 0.1840 - val_accuracy: 0.8691 - val_loss: 0.3848\n",
            "Epoch 42/50\n",
            "\u001b[1m14/14\u001b[0m \u001b[32m━━━━━━━━━━━━━━━━━━━━\u001b[0m\u001b[37m\u001b[0m \u001b[1m262s\u001b[0m 15s/step - accuracy: 0.9628 - loss: 0.1592 - val_accuracy: 0.8586 - val_loss: 0.3844\n",
            "Epoch 43/50\n",
            "\u001b[1m14/14\u001b[0m \u001b[32m━━━━━━━━━━━━━━━━━━━━\u001b[0m\u001b[37m\u001b[0m \u001b[1m212s\u001b[0m 15s/step - accuracy: 0.9613 - loss: 0.1648 - val_accuracy: 0.8586 - val_loss: 0.3804\n",
            "Epoch 44/50\n",
            "\u001b[1m14/14\u001b[0m \u001b[32m━━━━━━━━━━━━━━━━━━━━\u001b[0m\u001b[37m\u001b[0m \u001b[1m259s\u001b[0m 15s/step - accuracy: 0.9686 - loss: 0.1591 - val_accuracy: 0.8691 - val_loss: 0.3790\n",
            "Epoch 45/50\n",
            "\u001b[1m14/14\u001b[0m \u001b[32m━━━━━━━━━━━━━━━━━━━━\u001b[0m\u001b[37m\u001b[0m \u001b[1m261s\u001b[0m 15s/step - accuracy: 0.9580 - loss: 0.1694 - val_accuracy: 0.8639 - val_loss: 0.3800\n",
            "Epoch 46/50\n",
            "\u001b[1m14/14\u001b[0m \u001b[32m━━━━━━━━━━━━━━━━━━━━\u001b[0m\u001b[37m\u001b[0m \u001b[1m215s\u001b[0m 15s/step - accuracy: 0.9664 - loss: 0.1485 - val_accuracy: 0.8691 - val_loss: 0.3757\n",
            "Epoch 47/50\n",
            "\u001b[1m14/14\u001b[0m \u001b[32m━━━━━━━━━━━━━━━━━━━━\u001b[0m\u001b[37m\u001b[0m \u001b[1m261s\u001b[0m 15s/step - accuracy: 0.9718 - loss: 0.1378 - val_accuracy: 0.8639 - val_loss: 0.3745\n",
            "Epoch 48/50\n",
            "\u001b[1m14/14\u001b[0m \u001b[32m━━━━━━━━━━━━━━━━━━━━\u001b[0m\u001b[37m\u001b[0m \u001b[1m207s\u001b[0m 15s/step - accuracy: 0.9616 - loss: 0.1394 - val_accuracy: 0.8534 - val_loss: 0.3698\n",
            "Epoch 49/50\n",
            "\u001b[1m14/14\u001b[0m \u001b[32m━━━━━━━━━━━━━━━━━━━━\u001b[0m\u001b[37m\u001b[0m \u001b[1m267s\u001b[0m 15s/step - accuracy: 0.9639 - loss: 0.1428 - val_accuracy: 0.8639 - val_loss: 0.3728\n",
            "Epoch 50/50\n",
            "\u001b[1m14/14\u001b[0m \u001b[32m━━━━━━━━━━━━━━━━━━━━\u001b[0m\u001b[37m\u001b[0m \u001b[1m215s\u001b[0m 16s/step - accuracy: 0.9585 - loss: 0.1440 - val_accuracy: 0.8639 - val_loss: 0.3687\n"
          ]
        }
      ]
    },
    {
      "cell_type": "markdown",
      "source": [
        "## Model Evaluation"
      ],
      "metadata": {
        "id": "VHk6mEnnB0ff"
      }
    },
    {
      "cell_type": "code",
      "source": [
        "loss, accuracy = model.evaluate(val_dataset)\n",
        "print(f\"Validation Loss: {loss}\")\n",
        "print(f\"Validation Accuracy: {accuracy}\")"
      ],
      "metadata": {
        "colab": {
          "base_uri": "https://localhost:8080/"
        },
        "id": "7xHLK-JqB3tV",
        "outputId": "a4ec4e99-f2d4-4176-f6af-1ae0626d116a"
      },
      "execution_count": 14,
      "outputs": [
        {
          "output_type": "stream",
          "name": "stdout",
          "text": [
            "\u001b[1m3/3\u001b[0m \u001b[32m━━━━━━━━━━━━━━━━━━━━\u001b[0m\u001b[37m\u001b[0m \u001b[1m40s\u001b[0m 13s/step - accuracy: 0.8655 - loss: 0.3621\n",
            "Validation Loss: 0.3686758577823639\n",
            "Validation Accuracy: 0.8638743162155151\n"
          ]
        }
      ]
    },
    {
      "cell_type": "code",
      "source": [
        "# akurasi training dan validasi\n",
        "acc = history.history['accuracy']\n",
        "val_acc = history.history['val_accuracy']\n",
        "loss = history.history['loss']\n",
        "val_loss = history.history['val_loss']\n",
        "\n",
        "# epochs\n",
        "epochs = range(len(acc))\n",
        "\n",
        "fig, ax = plt.subplots(1, 2, figsize=(15, 5))\n",
        "fig.suptitle('Training and validation accuracy')\n",
        "\n",
        "for i, (data, label) in enumerate(zip([(acc, val_acc), (loss, val_loss)], [\"Accuracy\", \"Loss\"])):\n",
        "    ax[i].plot(epochs, data[0], 'r', label=\"Training \" + label)\n",
        "    ax[i].plot(epochs, data[1], 'b', label=\"Validation \" + label)\n",
        "    ax[i].legend()\n",
        "    ax[i].set_xlabel('epochs')\n",
        "\n",
        "plt.show()"
      ],
      "metadata": {
        "colab": {
          "base_uri": "https://localhost:8080/",
          "height": 515
        },
        "id": "gPOJs8AknCWf",
        "outputId": "2471199b-6bff-4930-d71c-a4a5eda14186"
      },
      "execution_count": 15,
      "outputs": [
        {
          "output_type": "display_data",
          "data": {
            "text/plain": [
              "<Figure size 1500x500 with 2 Axes>"
            ],
            "image/png": "[encoded data removed]"
          },
          "metadata": {}
        }
      ]
    }
  ]
}