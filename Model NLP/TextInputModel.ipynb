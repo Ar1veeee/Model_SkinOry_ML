{
  "nbformat": 4,
  "nbformat_minor": 0,
  "metadata": {
    "colab": {
      "provenance": []
    },
    "kernelspec": {
      "name": "python3",
      "display_name": "Python 3"
    },
    "language_info": {
      "name": "python"
    }
  },
  "cells": [
    {
      "cell_type": "markdown",
      "source": [
        "# 1. Import Libraries\n",
        " Kode ini mengimpor pustaka yang diperlukan untuk memproses data, membangun model CNN, dan melakukan evaluasi."
      ],
      "metadata": {
        "id": "as7qBC3p3qQZ"
      }
    },
    {
      "cell_type": "code",
      "execution_count": null,
      "metadata": {
        "id": "3eyqEx8z1WLh",
        "colab": {
          "base_uri": "https://localhost:8080/"
        },
        "outputId": "d7c45890-2b66-4087-b8e5-1fbde779f193"
      },
      "outputs": [
        {
          "output_type": "stream",
          "name": "stdout",
          "text": [
            "/usr/local/lib/python3.10/dist-packages/gdown/__main__.py:140: FutureWarning: Option `--id` was deprecated in version 4.3.1 and will be removed in 5.0. You don't need to pass it anymore to use a file ID.\n",
            "  warnings.warn(\n",
            "Downloading...\n",
            "From: https://drive.google.com/uc?id=1AX4acCz4X-1NJiTQrDYDv3MQHCxdjJ3C\n",
            "To: /content/SkincareSurveyData_10k.csv\n",
            "100% 4.56M/4.56M [00:00<00:00, 54.1MB/s]\n"
          ]
        }
      ],
      "source": [
        "# Mengimpor library yang diperlukan\n",
        "import pandas as pd\n",
        "import numpy as np\n",
        "from sklearn.model_selection import train_test_split\n",
        "from sklearn.preprocessing import LabelEncoder\n",
        "import tensorflow as tf\n",
        "from tensorflow.keras.preprocessing.text import Tokenizer\n",
        "from tensorflow.keras.preprocessing.sequence import pad_sequences\n",
        "from tensorflow.keras import layers, models, optimizers\n",
        "from tensorflow.keras.optimizers import Adam\n",
        "import matplotlib.pyplot as plt\n",
        "\n",
        "# SkincareSurveyData_10k.csv\n",
        "!gdown --id 1AX4acCz4X-1NJiTQrDYDv3MQHCxdjJ3C"
      ]
    },
    {
      "cell_type": "markdown",
      "source": [
        "Load the dataset\n"
      ],
      "metadata": {
        "id": "IBATJ2RnKc5H"
      }
    },
    {
      "cell_type": "code",
      "source": [
        "# Membaca dataset\n",
        "data = pd.read_csv(\"SkincareSurveyData_10k.csv\")\n",
        "\n",
        "# Memeriksa beberapa baris pertama dari dataset\n",
        "print(data.head())"
      ],
      "metadata": {
        "colab": {
          "base_uri": "https://localhost:8080/"
        },
        "id": "QdszlgTuKetD",
        "outputId": "440796f3-b2ee-4a66-9d53-2b0c7a1453ce"
      },
      "execution_count": null,
      "outputs": [
        {
          "output_type": "stream",
          "name": "stdout",
          "text": [
            "         Timestamp  Gender    Age                     Race         Occupation  \\\n",
            "0   4/3/2022 14:26  Female     27                  African          Architect   \n",
            "1   3/23/2022 7:19  Female  15-20                   Indian         Consultant   \n",
            "2  11/19/2022 4:01  Female     34                   Korean            Manager   \n",
            "3   11/9/2022 7:23    Male     29                   Korean  Software Engineer   \n",
            "4  6/26/2022 18:07  Female  35-40  Bumiputra Sabah (Bajau)            Teacher   \n",
            "\n",
            "  Do you agree that skincare is important ?  \\\n",
            "0                                       Yes   \n",
            "1                                         5   \n",
            "2                                         5   \n",
            "3                                         4   \n",
            "4                                       Yes   \n",
            "\n",
            "  Have you ever used any skin care products?  \\\n",
            "0                                        Yes   \n",
            "1                                        Yes   \n",
            "2                                        Yes   \n",
            "3                                         No   \n",
            "4                                         No   \n",
            "\n",
            "  Which, if any, of the following statements applies to you?  \\\n",
            "0  I have pigmentation;I have a combination skin ...           \n",
            "1  I have sensitive skin;I have pigmentation;I st...           \n",
            "2  I have pigmentation;I have dry and dull skin;I...           \n",
            "3  I have pigmentation;I struggle with acne and b...           \n",
            "4  I have oily skin;I struggle with acne and brea...           \n",
            "\n",
            "  Which of the following types of ingredients would make you more likely to buy a skin care product?  \\\n",
            "0  Noncomedogenic ingredients (ingredients that d...                                                   \n",
            "1  Natural ingredients;Alcohol-free ingredients;O...                                                   \n",
            "2  Natural ingredients;Noncomedogenic ingredients...                                                   \n",
            "3           Natural ingredients;Dye-free ingredients                                                   \n",
            "4  Natural ingredients;Noncomedogenic ingredients...                                                   \n",
            "\n",
            "                How do/did you choose your products?  ...  \\\n",
            "0                Brand;Pricing;Product's ingredients  ...   \n",
            "1  Friend/Relative recommendation;Brand;Product's...  ...   \n",
            "2  Friend/Relative recommendation;Dermatologist's...  ...   \n",
            "3                                      Brand;Pricing  ...   \n",
            "4       Dermatologist's advice;Product's ingredients  ...   \n",
            "\n",
            "  I want to reduce time to find which routine / products suits with my skin.  \\\n",
            "0                                                  5                           \n",
            "1                                                  4                           \n",
            "2                                                  5                           \n",
            "3                                                  5                           \n",
            "4                                                  1                           \n",
            "\n",
            "  I want have solutions from expert in effortless and cheap way.  \\\n",
            "0                                                  5               \n",
            "1                                                  2               \n",
            "2                                                  1               \n",
            "3                                                  3               \n",
            "4                                                  2               \n",
            "\n",
            "   I want to have my personalized skincare routine that suitable with my current products.  \\\n",
            "0                                                  2                                         \n",
            "1                                                  4                                         \n",
            "2                                                  4                                         \n",
            "3                                                  3                                         \n",
            "4                                                  1                                         \n",
            "\n",
            "  I want to gain knowledge of skincare regime in easy and understandable way.  \\\n",
            "0                                                  1                            \n",
            "1                                                  5                            \n",
            "2                                                  4                            \n",
            "3                                                  4                            \n",
            "4                                                  1                            \n",
            "\n",
            "  I want to adapt a healthy lifestyle for a glowing and healthy skin.  \\\n",
            "0                                                  3                    \n",
            "1                                                  4                    \n",
            "2                                                  5                    \n",
            "3                                                  4                    \n",
            "4                                                  2                    \n",
            "\n",
            "   Do you think that technology can improve your skincare routine?  \\\n",
            "0                                                 No                 \n",
            "1                                                 No                 \n",
            "2                                                Yes                 \n",
            "3                                                 No                 \n",
            "4                                                 No                 \n",
            "\n",
            "   Do you have heard about AI (Artificial Intelligent)?  \\\n",
            "0                                                 No      \n",
            "1                                                Yes      \n",
            "2                                                Yes      \n",
            "3                                                Yes      \n",
            "4                                                 No      \n",
            "\n",
            "   After you know about AI, do you want to have a skin scanning app that can customize skincare regime?  \\\n",
            "0                                                Yes                                                      \n",
            "1                                                 No                                                      \n",
            "2                                                 No                                                      \n",
            "3                                                 No                                                      \n",
            "4                                                 No                                                      \n",
            "\n",
            "   Do you feel excited to use this skincare application?  \\\n",
            "0                                                  3       \n",
            "1                                                  1       \n",
            "2                                                  1       \n",
            "3                                                  5       \n",
            "4                                                  4       \n",
            "\n",
            "   Do share your skincare goals and motivation with us!  \n",
            "0  To achieve a more luminous and radiant complexion     \n",
            "1  Simple routine, high quality, cheap & less tim...     \n",
            "2  To maintain clear skin and prevent future brea...     \n",
            "3  To enhance the effectiveness of my skincare ro...     \n",
            "4  To address specific concerns like dark circles...     \n",
            "\n",
            "[5 rows x 31 columns]\n"
          ]
        }
      ]
    },
    {
      "cell_type": "code",
      "source": [
        "# Set parameter\n",
        "vocab_size = 1000\n",
        "embedding_dim = 16\n",
        "max_length = 120\n",
        "trunc_type = 'post'\n",
        "padding_type = 'post'\n",
        "oov_tok = \"<OOV>\"\n",
        "training_portion = 0.8"
      ],
      "metadata": {
        "id": "jY9iXP_q7ejO"
      },
      "execution_count": null,
      "outputs": []
    },
    {
      "cell_type": "code",
      "source": [
        "sentences = []\n",
        "labels = []\n",
        "stopwords = [ \"a\", \"about\", \"above\", \"after\", \"again\", \"against\", \"all\", \"am\", \"an\", \"and\", \"any\", \"are\", \"as\", \"at\", \"be\", \"because\", \"been\", \"before\", \"being\", \"below\", \"between\", \"both\", \"but\", \"by\", \"could\", \"did\", \"do\", \"does\", \"doing\", \"down\", \"during\", \"each\", \"few\", \"for\", \"from\", \"further\", \"had\", \"has\", \"have\", \"having\", \"he\", \"he'd\", \"he'll\", \"he's\", \"her\", \"here\", \"here's\", \"hers\", \"herself\", \"him\", \"himself\", \"his\", \"how\", \"how's\", \"i\", \"i'd\", \"i'll\", \"i'm\", \"i've\", \"if\", \"in\", \"into\", \"is\", \"it\", \"it's\", \"its\", \"itself\", \"let's\", \"me\", \"more\", \"most\", \"my\", \"myself\", \"nor\", \"of\", \"on\", \"once\", \"only\", \"or\", \"other\", \"ought\", \"our\", \"ours\", \"ourselves\", \"out\", \"over\", \"own\", \"same\", \"she\", \"she'd\", \"she'll\", \"she's\", \"should\", \"so\", \"some\", \"such\", \"than\", \"that\", \"that's\", \"the\", \"their\", \"theirs\", \"them\", \"themselves\", \"then\", \"there\", \"there's\", \"these\", \"they\", \"they'd\", \"they'll\", \"they're\", \"they've\", \"this\", \"those\", \"through\", \"to\", \"too\", \"under\", \"until\", \"up\", \"very\", \"was\", \"we\", \"we'd\", \"we'll\", \"we're\", \"we've\", \"were\", \"what\", \"what's\", \"when\", \"when's\", \"where\", \"where's\", \"which\", \"while\", \"who\", \"who's\", \"whom\", \"why\", \"why's\", \"with\", \"would\", \"you\", \"you'd\", \"you'll\", \"you're\", \"you've\", \"your\", \"yours\", \"yourself\", \"yourselves\" ]"
      ],
      "metadata": {
        "id": "gHBbFf_oMsiP"
      },
      "execution_count": null,
      "outputs": []
    },
    {
      "cell_type": "code",
      "source": [
        "def remove_stopwords(text, stopwords):\n",
        "    for word in stopwords:\n",
        "        text = text.replace(f\" {word} \", \" \")\n",
        "    return text"
      ],
      "metadata": {
        "id": "D1oYm3G3-Xof"
      },
      "execution_count": null,
      "outputs": []
    },
    {
      "cell_type": "markdown",
      "source": [
        "labeling dataset\n"
      ],
      "metadata": {
        "id": "S43jV_QKKiea"
      }
    },
    {
      "cell_type": "code",
      "source": [
        "def label_skin_type(sentence):\n",
        "    \"\"\"\n",
        "    Fungsi untuk memberi label jenis kulit berdasarkan kata kunci yang diberikan.\n",
        "    Prioritas:\n",
        "    1. Kata kunci utama: \"oily\", \"dry\", \"normal\"\n",
        "    2. Kondisi tambahan jika tidak ada kata kunci utama, atau ada lebih dari satu kategori utama\n",
        "    \"\"\"\n",
        "    # Ubah kalimat menjadi huruf kecil untuk pencocokan kata\n",
        "    sentence = sentence.lower()\n",
        "\n",
        "    # Prioritas 1: Pencocokan langsung kata kunci utama\n",
        "    is_oily = \"oily\" in sentence\n",
        "    is_dry = \"dry\" in sentence\n",
        "    is_normal = \"normal\" in sentence\n",
        "\n",
        "    if is_oily and not (is_dry or is_normal):\n",
        "        return \"oily\"\n",
        "    elif is_dry and not (is_oily or is_normal):\n",
        "        return \"dry\"\n",
        "    elif is_normal and not (is_oily or is_dry):\n",
        "        return \"normal\"\n",
        "\n",
        "    # Prioritas 2: Jika tidak ada atau ada lebih dari satu kategori utama\n",
        "    # Kata kunci tambahan untuk klasifikasi\n",
        "    oily_keywords = [\"acne\", \"breakout\", \"blackheads\", \"whiteheads\", \"clogged pores\"]\n",
        "    dry_keywords = [\"dull\", \"eczema\", \"redness\", \"flaky\"]\n",
        "\n",
        "    # Periksa keberadaan kata kunci tambahan\n",
        "    for word in oily_keywords:\n",
        "        if word in sentence:\n",
        "            return \"oily\"\n",
        "    for word in dry_keywords:\n",
        "        if word in sentence:\n",
        "            return \"dry\"\n",
        "\n",
        "    # Default jika tidak ada kecocokan\n",
        "    return \"normal\"\n",
        "\n",
        "# Mengaplikasikan fungsi untuk memberikan label ke dataset\n",
        "data['Skin Type'] = data[\"Which, if any, of the following statements applies to you?\"].apply(label_skin_type)\n",
        "\n",
        "# Menampilkan beberapa baris pertama untuk memeriksa hasil labeling\n",
        "print(data[[\"Which, if any, of the following statements applies to you?\", \"Skin Type\"]].head())\n"
      ],
      "metadata": {
        "colab": {
          "base_uri": "https://localhost:8080/"
        },
        "id": "j_QNzeOpKkH3",
        "outputId": "db053498-cd1a-4040-f3e0-63be16650778"
      },
      "execution_count": null,
      "outputs": [
        {
          "output_type": "stream",
          "name": "stdout",
          "text": [
            "  Which, if any, of the following statements applies to you? Skin Type\n",
            "0  I have pigmentation;I have a combination skin ...            normal\n",
            "1  I have sensitive skin;I have pigmentation;I st...              oily\n",
            "2  I have pigmentation;I have dry and dull skin;I...               dry\n",
            "3  I have pigmentation;I struggle with acne and b...              oily\n",
            "4  I have oily skin;I struggle with acne and brea...              oily\n"
          ]
        }
      ]
    },
    {
      "cell_type": "markdown",
      "source": [
        "## Prepare the dataset for training"
      ],
      "metadata": {
        "id": "BPnq1eKA7bUk"
      }
    },
    {
      "cell_type": "code",
      "source": [
        "train_size = int(len(data) * training_portion)\n",
        "\n",
        "train_sentences = data['Which, if any, of the following statements applies to you?'][:train_size]\n",
        "train_labels = data['Skin Type'][:train_size]\n",
        "\n",
        "validation_sentences = data['Which, if any, of the following statements applies to you?'][train_size:]\n",
        "validation_labels = data['Skin Type'][train_size:]"
      ],
      "metadata": {
        "id": "oqvZezdBJLHw"
      },
      "execution_count": null,
      "outputs": []
    },
    {
      "cell_type": "code",
      "source": [
        "tokenizer = Tokenizer(num_words=vocab_size, oov_token=oov_tok)\n",
        "tokenizer.fit_on_texts(train_sentences)  # Melatih tokenizer dengan data pelatihan\n",
        "\n",
        "# Mengonversi kalimat menjadi sequence angka\n",
        "train_sequences = tokenizer.texts_to_sequences(train_sentences)\n",
        "train_padded = pad_sequences(train_sequences, padding=padding_type, maxlen=max_length)\n",
        "\n",
        "validation_sequences = tokenizer.texts_to_sequences(validation_sentences)\n",
        "validation_padded = pad_sequences(validation_sequences, padding=padding_type, maxlen=max_length)\n",
        "\n",
        "print(\"Train Padded Shape:\", train_padded.shape)\n",
        "print(\"Validation Padded Shape:\", validation_padded.shape)"
      ],
      "metadata": {
        "colab": {
          "base_uri": "https://localhost:8080/"
        },
        "id": "n-5oc8_pM2Eb",
        "outputId": "14a5a08e-24aa-44c7-a29f-d292aa3988e1"
      },
      "execution_count": null,
      "outputs": [
        {
          "output_type": "stream",
          "name": "stdout",
          "text": [
            "Train Padded Shape: (8000, 120)\n",
            "Validation Padded Shape: (2000, 120)\n"
          ]
        }
      ]
    },
    {
      "cell_type": "code",
      "source": [
        "# Mengubah label kategori menjadi angka\n",
        "label_encoder = LabelEncoder()\n",
        "train_labels_encoded = label_encoder.fit_transform(train_labels)\n",
        "validation_labels_encoded = label_encoder.transform(validation_labels)\n",
        "\n",
        "# Menampilkan beberapa contoh label yang telah dikodekan\n",
        "print(\"Encoded Train Labels:\", train_labels_encoded[:5])\n",
        "print(\"Encoded Validation Labels:\", validation_labels_encoded[:5])\n"
      ],
      "metadata": {
        "colab": {
          "base_uri": "https://localhost:8080/"
        },
        "id": "NAmDcNHrNFN3",
        "outputId": "31b280a5-2cd4-4a0d-9e4f-8d658678998c"
      },
      "execution_count": null,
      "outputs": [
        {
          "output_type": "stream",
          "name": "stdout",
          "text": [
            "Encoded Train Labels: [1 2 0 2 2]\n",
            "Encoded Validation Labels: [1 2 1 1 0]\n"
          ]
        }
      ]
    },
    {
      "cell_type": "markdown",
      "source": [
        "create the model"
      ],
      "metadata": {
        "id": "OHGe1OZtNQXl"
      }
    },
    {
      "cell_type": "code",
      "source": [
        "def create_model(vocab_size, embedding_dim, max_length):\n",
        "    model = models.Sequential([\n",
        "        layers.Embedding(vocab_size, embedding_dim, input_length=max_length),  # Embedding layer\n",
        "        layers.GlobalAveragePooling1D(),  # Pooling layer\n",
        "        layers.Dense(24, activation='relu'),  # Dense hidden layer\n",
        "        layers.Dense(3, activation='softmax')  # Output layer (3 kelas untuk jenis kulit)\n",
        "    ])\n",
        "\n",
        "    model.compile(loss=tf.keras.losses.SparseCategoricalCrossentropy(),\n",
        "                  optimizer=optimizers.Adam(learning_rate=0.0001),\n",
        "                  metrics=['accuracy'])\n",
        "\n",
        "    return model\n"
      ],
      "metadata": {
        "id": "ip18h231NSA2"
      },
      "execution_count": null,
      "outputs": []
    },
    {
      "cell_type": "code",
      "source": [
        "model = create_model(vocab_size=1000, embedding_dim=16, max_length=120)\n",
        "\n",
        "# Menampilkan ringkasan model\n",
        "model.summary()"
      ],
      "metadata": {
        "colab": {
          "base_uri": "https://localhost:8080/",
          "height": 308
        },
        "id": "rzbZhNcUNtX3",
        "outputId": "4b2a95cd-6302-43b9-a55c-a277c3f70b28"
      },
      "execution_count": null,
      "outputs": [
        {
          "output_type": "stream",
          "name": "stderr",
          "text": [
            "/usr/local/lib/python3.10/dist-packages/keras/src/layers/core/embedding.py:90: UserWarning: Argument `input_length` is deprecated. Just remove it.\n",
            "  warnings.warn(\n"
          ]
        },
        {
          "output_type": "display_data",
          "data": {
            "text/plain": [
              "\u001b[1mModel: \"sequential_15\"\u001b[0m\n"
            ],
            "text/html": [
              "<pre style=\"white-space:pre;overflow-x:auto;line-height:normal;font-family:Menlo,'DejaVu Sans Mono',consolas,'Courier New',monospace\"><span style=\"font-weight: bold\">Model: \"sequential_15\"</span>\n",
              "</pre>\n"
            ]
          },
          "metadata": {}
        },
        {
          "output_type": "display_data",
          "data": {
            "text/plain": [
              "┏━━━━━━━━━━━━━━━━━━━━━━━━━━━━━━━━━━━━━━┳━━━━━━━━━━━━━━━━━━━━━━━━━━━━━┳━━━━━━━━━━━━━━━━━┓\n",
              "┃\u001b[1m \u001b[0m\u001b[1mLayer (type)                        \u001b[0m\u001b[1m \u001b[0m┃\u001b[1m \u001b[0m\u001b[1mOutput Shape               \u001b[0m\u001b[1m \u001b[0m┃\u001b[1m \u001b[0m\u001b[1m        Param #\u001b[0m\u001b[1m \u001b[0m┃\n",
              "┡━━━━━━━━━━━━━━━━━━━━━━━━━━━━━━━━━━━━━━╇━━━━━━━━━━━━━━━━━━━━━━━━━━━━━╇━━━━━━━━━━━━━━━━━┩\n",
              "│ embedding_13 (\u001b[38;5;33mEmbedding\u001b[0m)             │ ?                           │     \u001b[38;5;34m0\u001b[0m (unbuilt) │\n",
              "├──────────────────────────────────────┼─────────────────────────────┼─────────────────┤\n",
              "│ global_average_pooling1d_10          │ ?                           │     \u001b[38;5;34m0\u001b[0m (unbuilt) │\n",
              "│ (\u001b[38;5;33mGlobalAveragePooling1D\u001b[0m)             │                             │                 │\n",
              "├──────────────────────────────────────┼─────────────────────────────┼─────────────────┤\n",
              "│ dense_30 (\u001b[38;5;33mDense\u001b[0m)                     │ ?                           │     \u001b[38;5;34m0\u001b[0m (unbuilt) │\n",
              "├──────────────────────────────────────┼─────────────────────────────┼─────────────────┤\n",
              "│ dense_31 (\u001b[38;5;33mDense\u001b[0m)                     │ ?                           │     \u001b[38;5;34m0\u001b[0m (unbuilt) │\n",
              "└──────────────────────────────────────┴─────────────────────────────┴─────────────────┘\n"
            ],
            "text/html": [
              "<pre style=\"white-space:pre;overflow-x:auto;line-height:normal;font-family:Menlo,'DejaVu Sans Mono',consolas,'Courier New',monospace\">┏━━━━━━━━━━━━━━━━━━━━━━━━━━━━━━━━━━━━━━┳━━━━━━━━━━━━━━━━━━━━━━━━━━━━━┳━━━━━━━━━━━━━━━━━┓\n",
              "┃<span style=\"font-weight: bold\"> Layer (type)                         </span>┃<span style=\"font-weight: bold\"> Output Shape                </span>┃<span style=\"font-weight: bold\">         Param # </span>┃\n",
              "┡━━━━━━━━━━━━━━━━━━━━━━━━━━━━━━━━━━━━━━╇━━━━━━━━━━━━━━━━━━━━━━━━━━━━━╇━━━━━━━━━━━━━━━━━┩\n",
              "│ embedding_13 (<span style=\"color: #0087ff; text-decoration-color: #0087ff\">Embedding</span>)             │ ?                           │     <span style=\"color: #00af00; text-decoration-color: #00af00\">0</span> (unbuilt) │\n",
              "├──────────────────────────────────────┼─────────────────────────────┼─────────────────┤\n",
              "│ global_average_pooling1d_10          │ ?                           │     <span style=\"color: #00af00; text-decoration-color: #00af00\">0</span> (unbuilt) │\n",
              "│ (<span style=\"color: #0087ff; text-decoration-color: #0087ff\">GlobalAveragePooling1D</span>)             │                             │                 │\n",
              "├──────────────────────────────────────┼─────────────────────────────┼─────────────────┤\n",
              "│ dense_30 (<span style=\"color: #0087ff; text-decoration-color: #0087ff\">Dense</span>)                     │ ?                           │     <span style=\"color: #00af00; text-decoration-color: #00af00\">0</span> (unbuilt) │\n",
              "├──────────────────────────────────────┼─────────────────────────────┼─────────────────┤\n",
              "│ dense_31 (<span style=\"color: #0087ff; text-decoration-color: #0087ff\">Dense</span>)                     │ ?                           │     <span style=\"color: #00af00; text-decoration-color: #00af00\">0</span> (unbuilt) │\n",
              "└──────────────────────────────────────┴─────────────────────────────┴─────────────────┘\n",
              "</pre>\n"
            ]
          },
          "metadata": {}
        },
        {
          "output_type": "display_data",
          "data": {
            "text/plain": [
              "\u001b[1m Total params: \u001b[0m\u001b[38;5;34m0\u001b[0m (0.00 B)\n"
            ],
            "text/html": [
              "<pre style=\"white-space:pre;overflow-x:auto;line-height:normal;font-family:Menlo,'DejaVu Sans Mono',consolas,'Courier New',monospace\"><span style=\"font-weight: bold\"> Total params: </span><span style=\"color: #00af00; text-decoration-color: #00af00\">0</span> (0.00 B)\n",
              "</pre>\n"
            ]
          },
          "metadata": {}
        },
        {
          "output_type": "display_data",
          "data": {
            "text/plain": [
              "\u001b[1m Trainable params: \u001b[0m\u001b[38;5;34m0\u001b[0m (0.00 B)\n"
            ],
            "text/html": [
              "<pre style=\"white-space:pre;overflow-x:auto;line-height:normal;font-family:Menlo,'DejaVu Sans Mono',consolas,'Courier New',monospace\"><span style=\"font-weight: bold\"> Trainable params: </span><span style=\"color: #00af00; text-decoration-color: #00af00\">0</span> (0.00 B)\n",
              "</pre>\n"
            ]
          },
          "metadata": {}
        },
        {
          "output_type": "display_data",
          "data": {
            "text/plain": [
              "\u001b[1m Non-trainable params: \u001b[0m\u001b[38;5;34m0\u001b[0m (0.00 B)\n"
            ],
            "text/html": [
              "<pre style=\"white-space:pre;overflow-x:auto;line-height:normal;font-family:Menlo,'DejaVu Sans Mono',consolas,'Courier New',monospace\"><span style=\"font-weight: bold\"> Non-trainable params: </span><span style=\"color: #00af00; text-decoration-color: #00af00\">0</span> (0.00 B)\n",
              "</pre>\n"
            ]
          },
          "metadata": {}
        }
      ]
    },
    {
      "cell_type": "markdown",
      "source": [
        "train & evaluate"
      ],
      "metadata": {
        "id": "0_rUhWnEOKuF"
      }
    },
    {
      "cell_type": "code",
      "source": [
        "num_epochs = 30\n",
        "history = model.fit(train_padded, train_labels_encoded,\n",
        "                    epochs=num_epochs,  # Menentukan jumlah epoch\n",
        "                    validation_data=(validation_padded, validation_labels_encoded))  # Data validasi"
      ],
      "metadata": {
        "id": "UjGHqly8OMUZ",
        "colab": {
          "base_uri": "https://localhost:8080/"
        },
        "outputId": "0931b3bf-7d52-43ba-bc46-fbe495cb4963"
      },
      "execution_count": null,
      "outputs": [
        {
          "output_type": "stream",
          "name": "stdout",
          "text": [
            "Epoch 1/30\n",
            "\u001b[1m250/250\u001b[0m \u001b[32m━━━━━━━━━━━━━━━━━━━━\u001b[0m\u001b[37m\u001b[0m \u001b[1m3s\u001b[0m 3ms/step - accuracy: 0.3906 - loss: 1.0793 - val_accuracy: 0.4200 - val_loss: 1.0437\n",
            "Epoch 2/30\n",
            "\u001b[1m250/250\u001b[0m \u001b[32m━━━━━━━━━━━━━━━━━━━━\u001b[0m\u001b[37m\u001b[0m \u001b[1m1s\u001b[0m 2ms/step - accuracy: 0.4321 - loss: 1.0356 - val_accuracy: 0.4200 - val_loss: 1.0374\n",
            "Epoch 3/30\n",
            "\u001b[1m250/250\u001b[0m \u001b[32m━━━━━━━━━━━━━━━━━━━━\u001b[0m\u001b[37m\u001b[0m \u001b[1m1s\u001b[0m 2ms/step - accuracy: 0.4306 - loss: 1.0335 - val_accuracy: 0.4200 - val_loss: 1.0343\n",
            "Epoch 4/30\n",
            "\u001b[1m250/250\u001b[0m \u001b[32m━━━━━━━━━━━━━━━━━━━━\u001b[0m\u001b[37m\u001b[0m \u001b[1m1s\u001b[0m 2ms/step - accuracy: 0.4376 - loss: 1.0265 - val_accuracy: 0.4200 - val_loss: 1.0297\n",
            "Epoch 5/30\n",
            "\u001b[1m250/250\u001b[0m \u001b[32m━━━━━━━━━━━━━━━━━━━━\u001b[0m\u001b[37m\u001b[0m \u001b[1m1s\u001b[0m 2ms/step - accuracy: 0.4381 - loss: 1.0221 - val_accuracy: 0.4685 - val_loss: 1.0240\n",
            "Epoch 6/30\n",
            "\u001b[1m250/250\u001b[0m \u001b[32m━━━━━━━━━━━━━━━━━━━━\u001b[0m\u001b[37m\u001b[0m \u001b[1m1s\u001b[0m 2ms/step - accuracy: 0.4678 - loss: 1.0183 - val_accuracy: 0.4260 - val_loss: 1.0179\n",
            "Epoch 7/30\n",
            "\u001b[1m250/250\u001b[0m \u001b[32m━━━━━━━━━━━━━━━━━━━━\u001b[0m\u001b[37m\u001b[0m \u001b[1m1s\u001b[0m 2ms/step - accuracy: 0.5251 - loss: 1.0126 - val_accuracy: 0.6795 - val_loss: 1.0084\n",
            "Epoch 8/30\n",
            "\u001b[1m250/250\u001b[0m \u001b[32m━━━━━━━━━━━━━━━━━━━━\u001b[0m\u001b[37m\u001b[0m \u001b[1m1s\u001b[0m 2ms/step - accuracy: 0.6106 - loss: 0.9904 - val_accuracy: 0.6620 - val_loss: 0.9971\n",
            "Epoch 9/30\n",
            "\u001b[1m250/250\u001b[0m \u001b[32m━━━━━━━━━━━━━━━━━━━━\u001b[0m\u001b[37m\u001b[0m \u001b[1m1s\u001b[0m 2ms/step - accuracy: 0.6774 - loss: 0.9800 - val_accuracy: 0.6765 - val_loss: 0.9839\n",
            "Epoch 10/30\n",
            "\u001b[1m250/250\u001b[0m \u001b[32m━━━━━━━━━━━━━━━━━━━━\u001b[0m\u001b[37m\u001b[0m \u001b[1m1s\u001b[0m 2ms/step - accuracy: 0.6890 - loss: 0.9693 - val_accuracy: 0.6765 - val_loss: 0.9678\n",
            "Epoch 11/30\n",
            "\u001b[1m250/250\u001b[0m \u001b[32m━━━━━━━━━━━━━━━━━━━━\u001b[0m\u001b[37m\u001b[0m \u001b[1m1s\u001b[0m 3ms/step - accuracy: 0.6979 - loss: 0.9497 - val_accuracy: 0.6855 - val_loss: 0.9494\n",
            "Epoch 12/30\n",
            "\u001b[1m250/250\u001b[0m \u001b[32m━━━━━━━━━━━━━━━━━━━━\u001b[0m\u001b[37m\u001b[0m \u001b[1m1s\u001b[0m 4ms/step - accuracy: 0.7067 - loss: 0.9336 - val_accuracy: 0.6855 - val_loss: 0.9292\n",
            "Epoch 13/30\n",
            "\u001b[1m250/250\u001b[0m \u001b[32m━━━━━━━━━━━━━━━━━━━━\u001b[0m\u001b[37m\u001b[0m \u001b[1m1s\u001b[0m 4ms/step - accuracy: 0.6932 - loss: 0.9153 - val_accuracy: 0.6855 - val_loss: 0.9066\n",
            "Epoch 14/30\n",
            "\u001b[1m250/250\u001b[0m \u001b[32m━━━━━━━━━━━━━━━━━━━━\u001b[0m\u001b[37m\u001b[0m \u001b[1m1s\u001b[0m 4ms/step - accuracy: 0.7038 - loss: 0.8841 - val_accuracy: 0.6915 - val_loss: 0.8829\n",
            "Epoch 15/30\n",
            "\u001b[1m250/250\u001b[0m \u001b[32m━━━━━━━━━━━━━━━━━━━━\u001b[0m\u001b[37m\u001b[0m \u001b[1m1s\u001b[0m 2ms/step - accuracy: 0.7109 - loss: 0.8583 - val_accuracy: 0.6750 - val_loss: 0.8576\n",
            "Epoch 16/30\n",
            "\u001b[1m250/250\u001b[0m \u001b[32m━━━━━━━━━━━━━━━━━━━━\u001b[0m\u001b[37m\u001b[0m \u001b[1m1s\u001b[0m 3ms/step - accuracy: 0.7073 - loss: 0.8328 - val_accuracy: 0.6810 - val_loss: 0.8322\n",
            "Epoch 17/30\n",
            "\u001b[1m250/250\u001b[0m \u001b[32m━━━━━━━━━━━━━━━━━━━━\u001b[0m\u001b[37m\u001b[0m \u001b[1m1s\u001b[0m 2ms/step - accuracy: 0.7161 - loss: 0.7993 - val_accuracy: 0.6750 - val_loss: 0.8073\n",
            "Epoch 18/30\n",
            "\u001b[1m250/250\u001b[0m \u001b[32m━━━━━━━━━━━━━━━━━━━━\u001b[0m\u001b[37m\u001b[0m \u001b[1m1s\u001b[0m 3ms/step - accuracy: 0.7117 - loss: 0.7794 - val_accuracy: 0.6940 - val_loss: 0.7817\n",
            "Epoch 19/30\n",
            "\u001b[1m250/250\u001b[0m \u001b[32m━━━━━━━━━━━━━━━━━━━━\u001b[0m\u001b[37m\u001b[0m \u001b[1m1s\u001b[0m 2ms/step - accuracy: 0.7109 - loss: 0.7539 - val_accuracy: 0.6810 - val_loss: 0.7559\n",
            "Epoch 20/30\n",
            "\u001b[1m250/250\u001b[0m \u001b[32m━━━━━━━━━━━━━━━━━━━━\u001b[0m\u001b[37m\u001b[0m \u001b[1m1s\u001b[0m 3ms/step - accuracy: 0.7225 - loss: 0.7215 - val_accuracy: 0.6810 - val_loss: 0.7317\n",
            "Epoch 21/30\n",
            "\u001b[1m250/250\u001b[0m \u001b[32m━━━━━━━━━━━━━━━━━━━━\u001b[0m\u001b[37m\u001b[0m \u001b[1m1s\u001b[0m 3ms/step - accuracy: 0.7097 - loss: 0.7067 - val_accuracy: 0.7020 - val_loss: 0.7075\n",
            "Epoch 22/30\n",
            "\u001b[1m250/250\u001b[0m \u001b[32m━━━━━━━━━━━━━━━━━━━━\u001b[0m\u001b[37m\u001b[0m \u001b[1m1s\u001b[0m 3ms/step - accuracy: 0.7142 - loss: 0.6786 - val_accuracy: 0.7020 - val_loss: 0.6841\n",
            "Epoch 23/30\n",
            "\u001b[1m250/250\u001b[0m \u001b[32m━━━━━━━━━━━━━━━━━━━━\u001b[0m\u001b[37m\u001b[0m \u001b[1m1s\u001b[0m 2ms/step - accuracy: 0.7135 - loss: 0.6548 - val_accuracy: 0.6890 - val_loss: 0.6614\n",
            "Epoch 24/30\n",
            "\u001b[1m250/250\u001b[0m \u001b[32m━━━━━━━━━━━━━━━━━━━━\u001b[0m\u001b[37m\u001b[0m \u001b[1m1s\u001b[0m 4ms/step - accuracy: 0.7139 - loss: 0.6339 - val_accuracy: 0.7020 - val_loss: 0.6405\n",
            "Epoch 25/30\n",
            "\u001b[1m250/250\u001b[0m \u001b[32m━━━━━━━━━━━━━━━━━━━━\u001b[0m\u001b[37m\u001b[0m \u001b[1m1s\u001b[0m 4ms/step - accuracy: 0.7174 - loss: 0.6154 - val_accuracy: 0.6890 - val_loss: 0.6202\n",
            "Epoch 26/30\n",
            "\u001b[1m250/250\u001b[0m \u001b[32m━━━━━━━━━━━━━━━━━━━━\u001b[0m\u001b[37m\u001b[0m \u001b[1m1s\u001b[0m 4ms/step - accuracy: 0.7128 - loss: 0.5964 - val_accuracy: 0.6890 - val_loss: 0.5989\n",
            "Epoch 27/30\n",
            "\u001b[1m250/250\u001b[0m \u001b[32m━━━━━━━━━━━━━━━━━━━━\u001b[0m\u001b[37m\u001b[0m \u001b[1m1s\u001b[0m 4ms/step - accuracy: 0.7204 - loss: 0.5692 - val_accuracy: 0.6955 - val_loss: 0.5789\n",
            "Epoch 28/30\n",
            "\u001b[1m250/250\u001b[0m \u001b[32m━━━━━━━━━━━━━━━━━━━━\u001b[0m\u001b[37m\u001b[0m \u001b[1m1s\u001b[0m 3ms/step - accuracy: 0.7263 - loss: 0.5586 - val_accuracy: 0.7075 - val_loss: 0.5592\n",
            "Epoch 29/30\n",
            "\u001b[1m250/250\u001b[0m \u001b[32m━━━━━━━━━━━━━━━━━━━━\u001b[0m\u001b[37m\u001b[0m \u001b[1m1s\u001b[0m 3ms/step - accuracy: 0.7370 - loss: 0.5304 - val_accuracy: 0.7075 - val_loss: 0.5426\n",
            "Epoch 30/30\n",
            "\u001b[1m250/250\u001b[0m \u001b[32m━━━━━━━━━━━━━━━━━━━━\u001b[0m\u001b[37m\u001b[0m \u001b[1m1s\u001b[0m 2ms/step - accuracy: 0.7389 - loss: 0.5105 - val_accuracy: 0.7075 - val_loss: 0.5234\n"
          ]
        }
      ]
    },
    {
      "cell_type": "code",
      "source": [
        "def plot_graphs(history, string):\n",
        "  plt.plot(history.history[string])\n",
        "  plt.plot(history.history['val_'+string])\n",
        "  plt.xlabel(\"Epochs\")\n",
        "  plt.ylabel(string)\n",
        "  plt.legend([string, 'val_'+string])\n",
        "  plt.show()\n",
        "\n",
        "plot_graphs(history, \"accuracy\")\n",
        "plot_graphs(history, \"loss\")"
      ],
      "metadata": {
        "id": "v4Q4yhIIOdh4",
        "colab": {
          "base_uri": "https://localhost:8080/",
          "height": 886
        },
        "outputId": "a107ef27-993a-42f7-c136-0ef5ae1073ac"
      },
      "execution_count": null,
      "outputs": [
        {
          "output_type": "display_data",
          "data": {
            "text/plain": [
              "<Figure size 640x480 with 1 Axes>"
            ],
            "image/png": "[encoded data removed]"
          },
          "metadata": {}
        },
        {
          "output_type": "display_data",
          "data": {
            "text/plain": [
              "<Figure size 640x480 with 1 Axes>"
            ],
            "image/png": "[encoded data removed]"
          },
          "metadata": {}
        }
      ]
    },
    {
      "cell_type": "markdown",
      "source": [
        "predict\n"
      ],
      "metadata": {
        "id": "ClSHkfeSGtvm"
      }
    },
    {
      "cell_type": "code",
      "source": [
        "# Jawaban user yang akan diprediksi\n",
        "test_sentences = [\n",
        "    \"I suffer from redness and sensitivity\",\n",
        "    \"I have a combination skin with dry and oily places\",\n",
        "    \"I have acne scars\",\n",
        "    \"I have minor problem\",\n",
        "    \"My skin feels dry and flaky\",\n",
        "    \"I have red patches and sensitivity\",\n",
        "    \"I have dry and dull skin\",\n",
        "    \"I suffer from redness and sensitivity;I have brown spots from sun damages\",\n",
        "    \"I have pigmentation;I struggle with acne and breakout\"\n",
        "]\n"
      ],
      "metadata": {
        "id": "fLTde3OXGJ3d"
      },
      "execution_count": null,
      "outputs": []
    },
    {
      "cell_type": "code",
      "source": [
        "from tensorflow.keras.preprocessing.text import Tokenizer\n",
        "from tensorflow.keras.preprocessing.sequence import pad_sequences\n",
        "\n",
        "# Inisialisasi Tokenizer dan fit pada data latih (misalnya X_train)\n",
        "tokenizer = Tokenizer()\n",
        "tokenizer.fit_on_texts(validation_sentences)  # Gunakan data latih untuk fit tokenizer\n",
        "\n",
        "# Tokenisasi dan padding data uji\n",
        "test_sequences = tokenizer.texts_to_sequences(test_sentences)\n",
        "test_padded = pad_sequences(test_sequences, padding='post', maxlen=100)  # Sesuaikan panjang input\n"
      ],
      "metadata": {
        "id": "hatJpBn5GK_C"
      },
      "execution_count": null,
      "outputs": []
    },
    {
      "cell_type": "code",
      "source": [
        "# Menggunakan model untuk prediksi\n",
        "predictions = model.predict(test_padded)\n",
        "\n",
        "# Mengonversi hasil prediksi menjadi kelas (misalnya, 0 = Oily, 1 = Dry, 2 = Normal)\n",
        "predicted_classes = predictions.argmax(axis=1)\n",
        "\n",
        "# Menampilkan hasil prediksi\n",
        "for i, sentence in enumerate(test_sentences):\n",
        "    print(f\"Jawaban: {sentence}\")\n",
        "    print(f\"Prediksi Jenis Kulit: {['Dry', 'Normal', 'Oily'][predicted_classes[i]]}\")\n",
        "    print(\"-\" * 50)\n"
      ],
      "metadata": {
        "colab": {
          "base_uri": "https://localhost:8080/"
        },
        "id": "utAOnoQI8vDh",
        "outputId": "8a96c776-d4be-47a3-e0eb-62cb118c9ccd"
      },
      "execution_count": null,
      "outputs": [
        {
          "output_type": "stream",
          "name": "stdout",
          "text": [
            "\u001b[1m1/1\u001b[0m \u001b[32m━━━━━━━━━━━━━━━━━━━━\u001b[0m\u001b[37m\u001b[0m \u001b[1m0s\u001b[0m 20ms/step\n",
            "Jawaban: I suffer from redness and sensitivity\n",
            "Prediksi Jenis Kulit: Dry\n",
            "--------------------------------------------------\n",
            "Jawaban: I have a combination skin with dry and oily places\n",
            "Prediksi Jenis Kulit: Oily\n",
            "--------------------------------------------------\n",
            "Jawaban: I have acne scars\n",
            "Prediksi Jenis Kulit: Oily\n",
            "--------------------------------------------------\n",
            "Jawaban: I have minor problem\n",
            "Prediksi Jenis Kulit: Normal\n",
            "--------------------------------------------------\n",
            "Jawaban: My skin feels dry and flaky\n",
            "Prediksi Jenis Kulit: Normal\n",
            "--------------------------------------------------\n",
            "Jawaban: I have red patches and sensitivity\n",
            "Prediksi Jenis Kulit: Dry\n",
            "--------------------------------------------------\n",
            "Jawaban: I have dry and dull skin\n",
            "Prediksi Jenis Kulit: Dry\n",
            "--------------------------------------------------\n",
            "Jawaban: I suffer from redness and sensitivity;I have brown spots from sun damages\n",
            "Prediksi Jenis Kulit: Dry\n",
            "--------------------------------------------------\n",
            "Jawaban: I have pigmentation;I struggle with acne and breakout\n",
            "Prediksi Jenis Kulit: Oily\n",
            "--------------------------------------------------\n"
          ]
        }
      ]
    }
  ]
}